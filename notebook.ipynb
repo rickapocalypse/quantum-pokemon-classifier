{
 "cells": [
  {
   "cell_type": "markdown",
   "metadata": {},
   "source": [
    "## Quantum Pokemon Classifier"
   ]
  },
  {
   "cell_type": "markdown",
   "metadata": {},
   "source": [
    "![](img/PokemonWorld.png)"
   ]
  },
  {
   "cell_type": "markdown",
   "metadata": {},
   "source": [
    "O mundo pokemon é um local vasto, bonito e repleto de regiões, que possibilitam aventuras incriveis para os novos treinadores pokemon a cada geração. Mas além disso, é um mundo formidavel para os pesquisadores, que encaram um novo desafio: Uma região ainda não catalogada e repleta de mistérios e criaturas esperando para serem descobertas."
   ]
  },
  {
   "cell_type": "markdown",
   "metadata": {},
   "source": [
    "Nesse contexto, o Professor Carvalho, um pesquisador renomado cujo nome ecoa pelos corredores das mais prestigiadas instituições Pokémon, fica ansioso para começar a explorar e catalogar os Pokémon dessa nova região. No entanto, esse desafio é enorme e ele sabe que não poderia trabalhar nisso sozinho. Assim, ele toma uma decisão crucial: abrir vagas para novos pesquisadores em sua equipe, buscando mentes brilhantes e dispostas a enfrentar os desafios que essa jornada implica."
   ]
  },
  {
   "cell_type": "markdown",
   "metadata": {},
   "source": [
    "<!-- <p align=\"center\">\n",
    "  <img src=\"image/Professor_Oak_JN_anime.webp\" alt=\"Mundo Pokemon\">\n",
    "</p> -->\n",
    "![Professor Carvalho](img/Professor_Oak_JN_anime.webp)"
   ]
  },
  {
   "cell_type": "markdown",
   "metadata": {},
   "source": [
    "A noticia que o professor Carvalho abriu vagas para pesquisadores correm por toda cidade e em questão de horas, centenas de curriculos inundam sua mesa. Assim, o professor começa avaliar um por um dos curriculos dos ansiosos treinadores e pesquisadores Pokémon. Entre eles, um em especial chama a atenção, o seu curriculo!"
   ]
  },
  {
   "cell_type": "markdown",
   "metadata": {},
   "source": [
    " Lá estava você, uma pessoa apaixonada pelo o que fazia, destemido e bla bla bla, igual a todas os outros candidatos, mas foi um detalhe em particular que despertou a curiosidade do Professor Carvalho: seu recente interesse e estudo em computação quântica utilizando [Qiskit](https://www.ibm.com/quantum/qiskit)."
   ]
  },
  {
   "cell_type": "markdown",
   "metadata": {},
   "source": [
    "No entanto, diante da perspetiva de explorar novas fronteiras e desvendar os mistérios do universo Pokémon de maneiras jamais imaginadas, ele decide abrir as portas para essa possibilidade intrigante e te informar para aparecer lá no outro dia de manhã."
   ]
  },
  {
   "cell_type": "markdown",
   "metadata": {},
   "source": [
    "No dia seguinte, logo pela manha, você está lá, parado diante da imponente porta do laboratório do Professor Carvalho, acompanhado de seu leal companheiro Pikachu. Em poucos minutos, a imagem do professor vai se construindo no fundo do escuro laboratorio dele e te recebe com um sorriso amigavel."
   ]
  },
  {
   "cell_type": "markdown",
   "metadata": {},
   "source": [
    "\n",
    "Ele se apresenta com pressa, mas não perde tempo, e logo te apresenta o seu desafio: ele deseja que você desenvolva um classificador para determinar se o primeiro tipo do Pokémon é normal ou aquático, e propõe a você utilizar computação quântica nessa tarefa. "
   ]
  },
  {
   "cell_type": "markdown",
   "metadata": {},
   "source": [
    "OK, agora é com você!"
   ]
  },
  {
   "cell_type": "markdown",
   "metadata": {},
   "source": [
    "### Exploratory Data Analysis"
   ]
  },
  {
   "cell_type": "markdown",
   "metadata": {},
   "source": [
    "Sua tarefa agora é criar um classificador que te ajudará na sua jornada em catalogar especies. Para isso, o professor Carvalho te entrega um dataset chamado `pokemon.csv` que ele construiu com anos de pesquisa, contendo dados importantes de Pokémon já catalogados, como nome, tipo, peso, tamanho, fraquezas."
   ]
  },
  {
   "cell_type": "code",
   "execution_count": 26,
   "metadata": {},
   "outputs": [],
   "source": [
    "import pandas as pd\n",
    "data = pd.read_csv('pokemon.csv') # Importando dataset"
   ]
  },
  {
   "cell_type": "markdown",
   "metadata": {},
   "source": [
    "### Data pre-processing"
   ]
  },
  {
   "cell_type": "markdown",
   "metadata": {},
   "source": [
    "Agora, você precisa filtrar o dataset, selecionando apenas os Pokémon que correspondem aos tipos água e normal, os focos de sua pesquisa. Essa seleção permitirá que você se concentre nos padrões e características distintivas desses tipos específicos."
   ]
  },
  {
   "cell_type": "markdown",
   "metadata": {},
   "source": [
    "Além disso, a escolha das features é um passo importante que devemos dar atenção ao nosso objetivo. Considerando que você não vai deixar o seu leal Pikachu para trás, vamos considerar que ele sabe diversos ataques eletricos, além de recentemente, de maneira estranha, ele aprendeu um ataque do tipo pedra, como o `rock throw` e é essencial incluir informações sobre fraquezas e resistências a ataques elétricos e de pedra."
   ]
  },
  {
   "cell_type": "code",
   "execution_count": 27,
   "metadata": {},
   "outputs": [
    {
     "name": "stdout",
     "output_type": "stream",
     "text": [
      "          name  type1  against_electric  against_rock\n",
      "6     Squirtle      1               2.0           1.0\n",
      "7    Wartortle      1               2.0           1.0\n",
      "8    Blastoise      1               2.0           1.0\n",
      "15      Pidgey      0               2.0           2.0\n",
      "16   Pidgeotto      0               2.0           2.0\n",
      "..         ...    ...               ...           ...\n",
      "772   Silvally      0               1.0           1.0\n",
      "774     Komala      0               1.0           1.0\n",
      "778    Bruxish      1               2.0           1.0\n",
      "779     Drampa      0               0.5           1.0\n",
      "787  Tapu Fini      1               2.0           1.0\n",
      "\n",
      "[219 rows x 4 columns]\n"
     ]
    }
   ],
   "source": [
    "from sklearn.preprocessing import LabelEncoder\n",
    "df = data.copy()\n",
    "df.isnull().sum()\n",
    "df.columns = df.columns.str.strip()\n",
    "# filtering only items that type1 == \"water\" or type1 == \"normal\"\n",
    "df = df[df['type1'].isin(['water', 'normal'])]\n",
    "# apply label encoding to column 'type1', water == 1 and normal == 0\n",
    "df['type1'] = LabelEncoder().fit_transform(df['type1'])\n",
    "print(df[['name', 'type1','against_electric','against_rock']])"
   ]
  },
  {
   "cell_type": "markdown",
   "metadata": {},
   "source": [
    "Com os dados em mãos, vamos separar um parte para fazer o treinamento e outra para testar o classificador. Além disso, vamos padronizar as features usando o  `StandardScaler`."
   ]
  },
  {
   "cell_type": "code",
   "execution_count": 28,
   "metadata": {},
   "outputs": [],
   "source": [
    "from sklearn.preprocessing import StandardScaler\n",
    "from sklearn.model_selection import train_test_split\n",
    "from qiskit_algorithms.utils import algorithm_globals\n",
    "algorithm_globals.random_seed = 42\n",
    "\n",
    "X = df[['against_electric', 'against_rock']]\n",
    "y = df['type1']\n",
    "\n",
    "X_train, X_test, y_train, y_test = train_test_split(\n",
    "    X, y, test_size=0.20, random_state=algorithm_globals.random_seed)\n",
    "\n",
    "scaler = StandardScaler()\n",
    "X_train = scaler.fit_transform(X_train)\n",
    "X_test = scaler.transform(X_test)"
   ]
  },
  {
   "cell_type": "markdown",
   "metadata": {},
   "source": [
    "### mapping classical data into a quantum circuit with ZZFeatureMap"
   ]
  },
  {
   "cell_type": "markdown",
   "metadata": {},
   "source": [
    "O Qiskit conta com alguns modelos de classificador Quântico. O mais simples desses modelos disponiveis no [Qiskit Machine Learning](https://qiskit-community.github.io/qiskit-machine-learning/apidocs/qiskit_machine_learning.algorithms.html) é o [*Variational Quantum Classifier*](https://docs.quantum.ibm.com/api/qiskit/0.31/qiskit.aqua.algorithms.VQC) ([VQC](https://docs.quantum.ibm.com/api/qiskit/0.31/qiskit.aqua.algorithms.VQC)). O fato da simplicidade do VQC é muito interessante para iniciantes em *quantum machine learning* por ser muito similar aos metodos aplicados hoje em dia."
   ]
  },
  {
   "cell_type": "markdown",
   "metadata": {},
   "source": [
    "O VQC necessita de algumas componentes para o seu funcionamento, que é o mapeamento das features classicas e o *Ansatz*."
   ]
  },
  {
   "cell_type": "markdown",
   "metadata": {},
   "source": [
    "O conjunto de dados que temos é classico, ou seja, em certa profundidade, ele é representado por bit, e não por qubits. Então, a sua tarefa aqui é codificar os bits em qubits. Para isso, você pode utilizar o [`ZZFeatureMap`](https://docs.quantum.ibm.com/api/qiskit/qiskit.circuit.library.ZZFeatureMap), que é uma das formas de codificar os seus dados. O `ZZFeatureMap` é uma técnica comum para mapear dados usando Qiskit. Você precisa especificar a quantidade de características (features) para o parâmetro feature_dimension, o qual estará diretamente relacionado ao número de qubits utilizados. Neste caso, serão $2$ qubits."
   ]
  },
  {
   "cell_type": "code",
   "execution_count": 29,
   "metadata": {},
   "outputs": [
    {
     "data": {
      "image/png": "[encoded data removed]",
      "text/plain": [
       "<Figure size 705.35x200.667 with 1 Axes>"
      ]
     },
     "execution_count": 29,
     "metadata": {},
     "output_type": "execute_result"
    }
   ],
   "source": [
    "from qiskit.circuit.library import ZZFeatureMap\n",
    "num_features = X_train.shape[1]\n",
    "feature_map = ZZFeatureMap(feature_dimension=num_features, reps=1)\n",
    "feature_map.decompose().draw(output=\"mpl\", style=\"clifford\", fold=-1)"
   ]
  },
  {
   "cell_type": "markdown",
   "metadata": {},
   "source": [
    "No circuito a cima, podemos visualizar $x[0]$ e $x[1]$. Esses parametros são espaços reservados para as nossas features."
   ]
  },
  {
   "cell_type": "markdown",
   "metadata": {},
   "source": [
    "### Ansatz"
   ]
  },
  {
   "cell_type": "markdown",
   "metadata": {},
   "source": [
    "Com os dados codificados, chega a hora de criar o `Ansatz`, um circuito parametrizado. Este circuito é um análogo direto das camadas das redes neurais clássicas, possuindo um conjunto de parametros $\\theta[i]$ que são ajustados e otimizados. De forma a minimizar a `função objetivo`, que caracteriza a distancia entre as previsões e os dados rotulados conhecidos."
   ]
  },
  {
   "cell_type": "markdown",
   "metadata": {},
   "source": [
    "O termo `Ansatz` é de origem alemã e que pode ser traduzido como \"palpite\". No entanto, neste contexto, ele representa um palpite calculado e refinado por meio de otimização iterativa. À medida que os parâmetros do Ansatz são ajustados, é necessario verificar os resultados obtidos, refinando-o continuamente para alcançar o melhor desempenho possível."
   ]
  },
  {
   "cell_type": "markdown",
   "metadata": {},
   "source": [
    "O Qiskit oferece uma variedade de tipos de `Ansatz`, mas para essa aplicação o [`RealAmplitudes`](https://docs.quantum.ibm.com/api/qiskit/qiskit.circuit.library.RealAmplitudes) já é suficiente. Veja que é necessario passar o `num_qubits`, que nesse caso é igual ao número de features. Além disso, é possível ajustar a quantidade de parâmetros do circuito variando o número de repetições."
   ]
  },
  {
   "cell_type": "code",
   "execution_count": 30,
   "metadata": {},
   "outputs": [
    {
     "data": {
      "image/png": "[encoded data removed]",
      "text/plain": [
       "<Figure size 705.35x200.667 with 1 Axes>"
      ]
     },
     "execution_count": 30,
     "metadata": {},
     "output_type": "execute_result"
    }
   ],
   "source": [
    "from qiskit.circuit.library import RealAmplitudes\n",
    "ansatz = RealAmplitudes(num_qubits=num_features, reps=3)\n",
    "ansatz.decompose().draw(output=\"mpl\", style=\"clifford\", fold=-1)"
   ]
  },
  {
   "cell_type": "markdown",
   "metadata": {},
   "source": [
    "Em seguida, é um algoritmo de otimização para usar no processo de treinamento."
   ]
  },
  {
   "cell_type": "code",
   "execution_count": 31,
   "metadata": {},
   "outputs": [],
   "source": [
    "from qiskit_algorithms.optimizers import COBYLA\n",
    "optimizer = COBYLA(maxiter=100)"
   ]
  },
  {
   "cell_type": "markdown",
   "metadata": {},
   "source": [
    "### Sampler and Qiskit Runtime"
   ]
  },
  {
   "cell_type": "markdown",
   "metadata": {},
   "source": [
    "No proximo passo, é necessario escolher onde o classificador será treinado, podendo ser simulador ou utilizando um maquina real para realizar a sua instancia. Se a segunda opção é de interesse do leitor, é possivel fazer isso utilizando o [`QiskitRuntimeService`](https://docs.quantum.ibm.com/api/qiskit-ibm-runtime/qiskit_ibm_runtime.QiskitRuntimeService). Aqui, vamos criar um instancia [Sampler](https://docs.quantum.ibm.com/api/qiskit/qiskit.primitives.Sampler) que é um simulador oferecido pelo Qiskit."
   ]
  },
  {
   "cell_type": "code",
   "execution_count": 32,
   "metadata": {},
   "outputs": [],
   "source": [
    "from qiskit.primitives import Sampler\n",
    "sampler = Sampler()"
   ]
  },
  {
   "cell_type": "markdown",
   "metadata": {},
   "source": [
    "Uma função `callback` é muito bem-vinda para visualizar o desempenho do `VQC` em minimizar a `função objetivo`."
   ]
  },
  {
   "cell_type": "code",
   "execution_count": 33,
   "metadata": {},
   "outputs": [],
   "source": [
    "from matplotlib import pyplot as plt\n",
    "from IPython.display import clear_output\n",
    "\n",
    "objective_func_vals = []\n",
    "plt.rcParams[\"figure.figsize\"] = (12, 6)\n",
    "\n",
    "\n",
    "def callback_graph(weights, obj_func_eval):\n",
    "    clear_output(wait=True)\n",
    "    objective_func_vals.append(obj_func_eval)\n",
    "    plt.title(\"Objective function value against iteration\")\n",
    "    plt.xlabel(\"Iteration\")\n",
    "    plt.ylabel(\"Objective function value\")\n",
    "    plt.plot(range(len(objective_func_vals)), objective_func_vals)\n",
    "    plt.grid()\n",
    "    plt.show()"
   ]
  },
  {
   "cell_type": "markdown",
   "metadata": {},
   "source": [
    "### Classifier and Training"
   ]
  },
  {
   "cell_type": "markdown",
   "metadata": {},
   "source": [
    "Agora finalmente tudo está pronto para criar o nosso classificador quântico."
   ]
  },
  {
   "cell_type": "markdown",
   "metadata": {},
   "source": [
    "O VQC utiliza os circuito criados no processo de mapeamento e de `Ansatz`, junto com otimizador e o `Sampler`  para construir uma rede neural quântica de forma simples."
   ]
  },
  {
   "cell_type": "markdown",
   "metadata": {},
   "source": [
    "O processo de treinamento pode ser um tanto demorado, especialmente ao realizar simulações. Essa espera pode se tornar ainda mais cansativa, especialmente quando lidamos com circuitos grandes e complexos. Portanto, após horas dedicadas a análises e criação, você decide fazer uma pausa e tomar um café no laboratório, acompanhado pelo Professor Carvalho, enquanto aguarda a conclusão dessa tarefa."
   ]
  },
  {
   "cell_type": "code",
   "execution_count": 34,
   "metadata": {},
   "outputs": [
    {
     "data": {
      "image/png": "[encoded data removed]",
      "text/plain": [
       "<Figure size 1200x600 with 1 Axes>"
      ]
     },
     "metadata": {},
     "output_type": "display_data"
    },
    {
     "name": "stdout",
     "output_type": "stream",
     "text": [
      "Training time: 61 seconds\n"
     ]
    }
   ],
   "source": [
    "import time\n",
    "from qiskit_machine_learning.algorithms.classifiers import VQC\n",
    "\n",
    "vqc = VQC(\n",
    "    sampler=sampler,\n",
    "    feature_map=feature_map,\n",
    "    ansatz=ansatz,\n",
    "    optimizer=optimizer,\n",
    "    callback=callback_graph,\n",
    ")\n",
    "\n",
    "# clear objective value history\n",
    "objective_func_vals = []\n",
    "\n",
    "start = time.time()\n",
    "vqc.fit(X_train, y_train.values)\n",
    "elapsed = time.time() - start\n",
    "\n",
    "print(f\"Training time: {round(elapsed)} seconds\")"
   ]
  },
  {
   "cell_type": "markdown",
   "metadata": {},
   "source": [
    "Depois de um tempo você nota que o seu computador terminou o processo de classificação e você corre para testar o seu classificador."
   ]
  },
  {
   "cell_type": "code",
   "execution_count": 35,
   "metadata": {},
   "outputs": [
    {
     "name": "stdout",
     "output_type": "stream",
     "text": [
      "Quantum VQC no dataset de treinamento: 0.81\n",
      "Quantum VQC no dataset de teste:     0.86\n"
     ]
    }
   ],
   "source": [
    "train_score_q4 = vqc.score(X_train, y_train)\n",
    "test_score_q4 = vqc.score(X_test, y_test)\n",
    "\n",
    "print(f\"Quantum VQC no dataset de treinamento: {train_score_q4:.2f}\")\n",
    "print(f\"Quantum VQC no dataset de teste:     {test_score_q4:.2f}\")"
   ]
  },
  {
   "cell_type": "markdown",
   "metadata": {},
   "source": [
    "### Conclusões"
   ]
  },
  {
   "cell_type": "markdown",
   "metadata": {},
   "source": [
    "Bom, com a pontuação desse classificador, é possivel concluir algumas coisas. O desempenho maior nos dados de teste sugere que o seu modelo se generaliza bem para dados novos. No entanto, é possivel notar um desempenho significativamente menor para o caso de treinamento em relação ao de teste, mas ainda sim é um valor respeitavel. "
   ]
  },
  {
   "cell_type": "markdown",
   "metadata": {},
   "source": [
    "O resultado do classificador é promissor e util. No entanto, ao examinarmos mais de perto, surgem algumas limitações que merecem nossa atenção.\n",
    "\n",
    "Uma dessas limitações é inerente ao problema proposto, e nasce da presença de Pokémon com tipos primários e secundários. Por exemplo, alguns Pokémon podem ser classificados como do tipo aquático em seu primeiro tipo e terrestre em seu segundo tipo. Essa combinação de tipos implica em imunidade a ataques elétricos, adicionando uma camada de complexidade à nossa classificação baseada apenas no tipo primário. "
   ]
  },
  {
   "cell_type": "markdown",
   "metadata": {},
   "source": [
    "Além disso, outra limitação está na quantidade de dados disponiveis, que é relativamente pequeno para essa tarefa em especifico. Isso pode resultar em um classificador que não generalize bem para novos dados ou que apresente viés."
   ]
  },
  {
   "cell_type": "markdown",
   "metadata": {},
   "source": [
    "Por fim, outra limitação é o estagio de maturidade que o aprendizado de maquina quântico está. Mesmo com diversos algoritmos quânticos que ofereçam vantagens significativas ainda estamos em estagios iniciais dessa ciencia. Assim, é esperado que esses algoritmos evoluam, e que, novos e mais promissores apareçam para demandas especificas. Com o avanço do desenvolvimento de hardware quântico, esse tipo de solução ganha muito potencial para se tornarem uteis e eficazes."
   ]
  },
  {
   "cell_type": "markdown",
   "metadata": {},
   "source": [
    "Você finaliza suas conclusões e as apresenta ao professor Carvalho, que fica imediatamente animado com os resultados preliminares e compreende toda a situação. Apos ele analisar, ele verifica que por enquanto, esse classificar vai ser util para essa situação. Com um sorriso no rosto, ele brinca: \"Quando a computação quântico estiver em niveis mais avançados, podemos nomear a nova região como `Quanto`.\""
   ]
  },
  {
   "cell_type": "markdown",
   "metadata": {},
   "source": [
    "As palavras do Professor Carvalho deixam você maravilhado com a situação. Sua fome por conhecimento é insaciável, e essa conversa apenas alimentou ainda mais sua fome por descobertas. Essa jornada não é apenas sobre catalogar Pokémon ou desenvolver classificadores; é sobre explorar fronteiras desconhecidas, desafiar limites e abrir novos caminhos na ciência."
   ]
  },
  {
   "cell_type": "markdown",
   "metadata": {},
   "source": [
    "### referencias\n",
    "\n",
    "- https://www.forbes.com/sites/olliebarder/2019/02/27/the-galar-region-in-pokemon-sword-and-shield-looks-a-lot-like-the-united-kingdom/\n",
    "- https://pokemondb.net/move/rock-throw\n",
    "- https://pokemon.fandom.com/pt-br/wiki/Professor_Carvalho_(anime)?file=Professor_Oak_JN_anime.png\n",
    "- https://qiskit-community.github.io/qiskit-machine-learning/tutorials/02a_training_a_quantum_model_on_a_real_dataset.html\n",
    "- https://qiskit-community.github.io/qiskit-machine-learning/tutorials/02a_training_a_quantum_model_on_a_real_dataset.html"
   ]
  }
 ],
 "metadata": {
  "kernelspec": {
   "display_name": "venv",
   "language": "python",
   "name": "python3"
  },
  "language_info": {
   "codemirror_mode": {
    "name": "ipython",
    "version": 3
   },
   "file_extension": ".py",
   "mimetype": "text/x-python",
   "name": "python",
   "nbconvert_exporter": "python",
   "pygments_lexer": "ipython3",
   "version": "3.11.8"
  }
 },
 "nbformat": 4,
 "nbformat_minor": 2
}
